{
 "cells": [
  {
   "cell_type": "code",
   "execution_count": 38,
   "id": "df6687d6",
   "metadata": {
    "ExecuteTime": {
     "end_time": "2023-10-26T12:13:06.264084300Z",
     "start_time": "2023-10-26T12:13:04.468614300Z"
    }
   },
   "outputs": [],
   "source": [
    "import numpy as np\n",
    "import pandas as pd\n",
    "import json\n",
    "import matplotlib.pyplot as plt\n",
    "import requests\n",
    "import vk_api"
   ]
  },
  {
   "cell_type": "code",
   "execution_count": 39,
   "id": "7749df88",
   "metadata": {
    "ExecuteTime": {
     "end_time": "2023-10-26T12:13:06.265081500Z",
     "start_time": "2023-10-26T12:13:04.474740900Z"
    }
   },
   "outputs": [],
   "source": [
    "TOKEN = 'e059a5f4e059a5f4e059a5f4f4e34faa77ee059e059a5f4856f704b5f7931909fb8c92e'\n",
    "NUMBER_OF_FRIENDS = 300\n",
    "ORDER = 'random'\n",
    "VERSION = '5.154'\n",
    "deep = 1"
   ]
  },
  {
   "cell_type": "code",
   "execution_count": 55,
   "id": "a70bc3e3",
   "metadata": {},
   "outputs": [],
   "source": [
    "def resolve_url(url, TOKEN):\n",
    "    vk = vk_api.VkApi(token=TOKEN)\n",
    "    vk = vk.get_api()\n",
    "    ids = vk.utils.resolveScreenName(screen_name=url.split('/')[-1])\n",
    "    return ids"
   ]
  },
  {
   "cell_type": "code",
   "execution_count": 41,
   "id": "d9825ae0",
   "metadata": {
    "ExecuteTime": {
     "end_time": "2023-10-26T12:13:06.307996600Z",
     "start_time": "2023-10-26T12:13:04.485642300Z"
    }
   },
   "outputs": [],
   "source": [
    "def get_friends(user_id, COUNT, ORDER, VERSION, TOKEN):\n",
    "    response = requests.get('https://api.vk.com/method/friends.get',\n",
    "                            params={'access_token':TOKEN,\n",
    "                                    'user_id':user_id,\n",
    "                                    'order':ORDER,\n",
    "                                    'count':COUNT,\n",
    "                                    'v':VERSION})\n",
    "    data = response.json()\n",
    "    \n",
    "    if 'response' in data:\n",
    "        friend_ids = data['response']['items']\n",
    "        return friend_ids\n",
    "    else:\n",
    "        return []\n",
    "\n",
    "def get_name(TOKEN, user_id):\n",
    "    vk = vk_api.VkApi(token=TOKEN)\n",
    "    user = vk.method(\"users.get\", {\"user_ids\": user_id})\n",
    "    return user[0]['first_name'] +  ' ' + user[0]['last_name']\n",
    "\n",
    "def get_number_of_friends(user_id, access_token):\n",
    "    url = f\"https://api.vk.com/method/friends.get?user_id={user_id}&access_token={access_token}&v=5.131\"\n",
    "    response = requests.get(url)\n",
    "    data = response.json()\n",
    "\n",
    "    if 'response' in data:\n",
    "        friend_ids = data['response']['items']\n",
    "        return friend_ids\n",
    "    else:\n",
    "        return []\n",
    "\n",
    "\n",
    "def friends_deepNtree_analys(user_id, deep, TOKEN):\n",
    "    friends_n_relevances = {}\n",
    "    if deep < 0:\n",
    "        friends_n_relevances = 'Incorrect deep'\n",
    "    elif deep == 0:\n",
    "        friends_n_relevances[user_id] = 1\n",
    "    else:\n",
    "        friends_above_n_relevances = friends_deepNtree_analys(user_id, deep - 1, TOKEN)\n",
    "        friends_above_n = list(friends_above_n_relevances.keys())\n",
    "        min_above_relevance = min(list(friends_above_n_relevances.values()))\n",
    "        for friend_above in friends_above_n:\n",
    "            friends_n = get_friends(str(friend_above), NUMBER_OF_FRIENDS, ORDER, VERSION, TOKEN)\n",
    "            for n_id in friends_n:\n",
    "                revelance = (friends_n.count(n_id) / len(friends_n)) * (friends_above_n_relevances[friend_above] / min_above_relevance)\n",
    "                if n_id in friends_n_relevances:\n",
    "                    friends_n_relevances[n_id] += revelance\n",
    "                else:\n",
    "                    friends_n_relevances[n_id] = revelance\n",
    "    \n",
    "    return friends_n_relevances"
   ]
  },
  {
   "cell_type": "code",
   "execution_count": 57,
   "id": "ac4a72a8",
   "metadata": {},
   "outputs": [
    {
     "name": "stdout",
     "output_type": "stream",
     "text": [
      "Enter number of recomendation: 20\n"
     ]
    }
   ],
   "source": [
    "user_id = 122605737\n",
    "num_recomendation = int(input('Enter number of recomendation: ')) + 1"
   ]
  },
  {
   "cell_type": "code",
   "execution_count": 58,
   "id": "df4a230a",
   "metadata": {
    "ExecuteTime": {
     "end_time": "2023-10-26T12:37:46.041799700Z",
     "start_time": "2023-10-26T12:35:47.107609600Z"
    }
   },
   "outputs": [],
   "source": [
    "result = friends_deepNtree_analys(user_id, 2, TOKEN)"
   ]
  },
  {
   "cell_type": "code",
   "execution_count": 59,
   "id": "0c8d07dd",
   "metadata": {
    "ExecuteTime": {
     "end_time": "2023-10-26T12:29:43.611528600Z",
     "start_time": "2023-10-26T12:29:43.027954700Z"
    }
   },
   "outputs": [],
   "source": [
    "sorted_result = sorted(result.items(), key=lambda item: item[1], reverse=True)"
   ]
  },
  {
   "cell_type": "code",
   "execution_count": 60,
   "id": "29de5b8d",
   "metadata": {
    "ExecuteTime": {
     "end_time": "2023-10-26T12:41:46.144200100Z",
     "start_time": "2023-10-26T12:41:45.397355400Z"
    }
   },
   "outputs": [],
   "source": [
    "friends_id = get_number_of_friends(user_id, TOKEN)"
   ]
  },
  {
   "cell_type": "code",
   "execution_count": 61,
   "id": "a8c9798b",
   "metadata": {},
   "outputs": [],
   "source": [
    "serise_id = []\n",
    "series_name = []\n",
    "i = 0\n",
    "while i < num_recomendation:\n",
    "    if sorted_result[i][0] not in friends_id:\n",
    "        serise_id.append('vk.com/id' + str(sorted_result[i][0]))\n",
    "        series_name.append(get_name(TOKEN, sorted_result[i][0]))\n",
    "    else:\n",
    "        num_recomendation += 1\n",
    "    i += 1\n"
   ]
  },
  {
   "cell_type": "code",
   "execution_count": 62,
   "id": "6c92228e",
   "metadata": {},
   "outputs": [
    {
     "data": {
      "text/html": [
       "<div>\n",
       "<style scoped>\n",
       "    .dataframe tbody tr th:only-of-type {\n",
       "        vertical-align: middle;\n",
       "    }\n",
       "\n",
       "    .dataframe tbody tr th {\n",
       "        vertical-align: top;\n",
       "    }\n",
       "\n",
       "    .dataframe thead th {\n",
       "        text-align: right;\n",
       "    }\n",
       "</style>\n",
       "<table border=\"1\" class=\"dataframe\">\n",
       "  <thead>\n",
       "    <tr style=\"text-align: right;\">\n",
       "      <th></th>\n",
       "      <th>Link</th>\n",
       "      <th>Name</th>\n",
       "    </tr>\n",
       "  </thead>\n",
       "  <tbody>\n",
       "    <tr>\n",
       "      <th>1</th>\n",
       "      <td>vk.com/id326975259</td>\n",
       "      <td>Danil Kravets</td>\n",
       "    </tr>\n",
       "    <tr>\n",
       "      <th>2</th>\n",
       "      <td>vk.com/id412953016</td>\n",
       "      <td>Alina Kazieva</td>\n",
       "    </tr>\n",
       "    <tr>\n",
       "      <th>3</th>\n",
       "      <td>vk.com/id307155848</td>\n",
       "      <td>Anastasia Borisenko</td>\n",
       "    </tr>\n",
       "    <tr>\n",
       "      <th>4</th>\n",
       "      <td>vk.com/id562399806</td>\n",
       "      <td>Inna Sol</td>\n",
       "    </tr>\n",
       "    <tr>\n",
       "      <th>5</th>\n",
       "      <td>vk.com/id711177060</td>\n",
       "      <td>Anastasia Kuzmicheva</td>\n",
       "    </tr>\n",
       "    <tr>\n",
       "      <th>6</th>\n",
       "      <td>vk.com/id414907160</td>\n",
       "      <td>Musa Kafiatullin</td>\n",
       "    </tr>\n",
       "    <tr>\n",
       "      <th>7</th>\n",
       "      <td>vk.com/id329463154</td>\n",
       "      <td>Pelagia Alexeeva</td>\n",
       "    </tr>\n",
       "    <tr>\n",
       "      <th>8</th>\n",
       "      <td>vk.com/id389981352</td>\n",
       "      <td>Platon Paxivatov</td>\n",
       "    </tr>\n",
       "    <tr>\n",
       "      <th>9</th>\n",
       "      <td>vk.com/id267309038</td>\n",
       "      <td>Daniil Chinyakov</td>\n",
       "    </tr>\n",
       "    <tr>\n",
       "      <th>10</th>\n",
       "      <td>vk.com/id518996720</td>\n",
       "      <td>Maxim Li</td>\n",
       "    </tr>\n",
       "    <tr>\n",
       "      <th>11</th>\n",
       "      <td>vk.com/id573852041</td>\n",
       "      <td>Goyko Rad</td>\n",
       "    </tr>\n",
       "    <tr>\n",
       "      <th>12</th>\n",
       "      <td>vk.com/id3287300</td>\n",
       "      <td>Elena Kovaleva</td>\n",
       "    </tr>\n",
       "    <tr>\n",
       "      <th>13</th>\n",
       "      <td>vk.com/id269079782</td>\n",
       "      <td>Yaroslav Ermachkov</td>\n",
       "    </tr>\n",
       "    <tr>\n",
       "      <th>14</th>\n",
       "      <td>vk.com/id318127606</td>\n",
       "      <td>Pavel Filin</td>\n",
       "    </tr>\n",
       "    <tr>\n",
       "      <th>15</th>\n",
       "      <td>vk.com/id319156824</td>\n",
       "      <td>Ivan Postnov</td>\n",
       "    </tr>\n",
       "    <tr>\n",
       "      <th>16</th>\n",
       "      <td>vk.com/id582526166</td>\n",
       "      <td>Taisia Kuchina</td>\n",
       "    </tr>\n",
       "    <tr>\n",
       "      <th>17</th>\n",
       "      <td>vk.com/id1489456</td>\n",
       "      <td>Alexander Kovalev</td>\n",
       "    </tr>\n",
       "    <tr>\n",
       "      <th>18</th>\n",
       "      <td>vk.com/id519208435</td>\n",
       "      <td>Alexey Suvorov</td>\n",
       "    </tr>\n",
       "    <tr>\n",
       "      <th>19</th>\n",
       "      <td>vk.com/id385899154</td>\n",
       "      <td>Evgenia Knyazeva</td>\n",
       "    </tr>\n",
       "    <tr>\n",
       "      <th>20</th>\n",
       "      <td>vk.com/id406025548</td>\n",
       "      <td>Nikolay Yudin</td>\n",
       "    </tr>\n",
       "  </tbody>\n",
       "</table>\n",
       "</div>"
      ],
      "text/plain": [
       "                  Link                  Name\n",
       "1   vk.com/id326975259         Danil Kravets\n",
       "2   vk.com/id412953016         Alina Kazieva\n",
       "3   vk.com/id307155848   Anastasia Borisenko\n",
       "4   vk.com/id562399806              Inna Sol\n",
       "5   vk.com/id711177060  Anastasia Kuzmicheva\n",
       "6   vk.com/id414907160      Musa Kafiatullin\n",
       "7   vk.com/id329463154      Pelagia Alexeeva\n",
       "8   vk.com/id389981352      Platon Paxivatov\n",
       "9   vk.com/id267309038      Daniil Chinyakov\n",
       "10  vk.com/id518996720              Maxim Li\n",
       "11  vk.com/id573852041             Goyko Rad\n",
       "12    vk.com/id3287300        Elena Kovaleva\n",
       "13  vk.com/id269079782    Yaroslav Ermachkov\n",
       "14  vk.com/id318127606           Pavel Filin\n",
       "15  vk.com/id319156824          Ivan Postnov\n",
       "16  vk.com/id582526166        Taisia Kuchina\n",
       "17    vk.com/id1489456     Alexander Kovalev\n",
       "18  vk.com/id519208435        Alexey Suvorov\n",
       "19  vk.com/id385899154      Evgenia Knyazeva\n",
       "20  vk.com/id406025548         Nikolay Yudin"
      ]
     },
     "execution_count": 62,
     "metadata": {},
     "output_type": "execute_result"
    }
   ],
   "source": [
    "df = pd.DataFrame({'Link':serise_id, 'Name':series_name})\n",
    "df = df.iloc[1:, :]\n",
    "df"
   ]
  }
 ],
 "metadata": {
  "kernelspec": {
   "display_name": "Python 3 (ipykernel)",
   "language": "python",
   "name": "python3"
  },
  "language_info": {
   "codemirror_mode": {
    "name": "ipython",
    "version": 3
   },
   "file_extension": ".py",
   "mimetype": "text/x-python",
   "name": "python",
   "nbconvert_exporter": "python",
   "pygments_lexer": "ipython3",
   "version": "3.11.5"
  }
 },
 "nbformat": 4,
 "nbformat_minor": 5
}
